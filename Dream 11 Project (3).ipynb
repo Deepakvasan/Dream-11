{
 "cells": [
  {
   "cell_type": "markdown",
   "metadata": {},
   "source": [
    "Sorting a dictionary as required(asc or desc)"
   ]
  },
  {
   "cell_type": "code",
   "execution_count": null,
   "metadata": {},
   "outputs": [],
   "source": []
  },
  {
   "cell_type": "code",
   "execution_count": 1,
   "metadata": {},
   "outputs": [],
   "source": [
    "def sort_dict(Dict,ch=True):\n",
    "    if ch:\n",
    "        sorted_values = sorted(Dict.values())\n",
    "    else:\n",
    "        sorted_values = sorted(Dict.values(),reverse=True)\n",
    "    sorted_dict = {}\n",
    "    for i in sorted_values:\n",
    "        for k in Dict.keys():\n",
    "            if Dict[k] == i:\n",
    "                sorted_dict[k] = Dict[k]\n",
    "                break # To reduce no of iterations.\n",
    "    return(sorted_dict)"
   ]
  },
  {
   "cell_type": "markdown",
   "metadata": {},
   "source": [
    "Calculating top runscorers across seasons in a Dictionary"
   ]
  },
  {
   "cell_type": "code",
   "execution_count": 2,
   "metadata": {},
   "outputs": [],
   "source": [
    "import csv\n",
    "def runs():\n",
    "    with open(\"ipl-stats.csv\",mode=\"r\") as csv_file:\n",
    "        csvreader=csv.DictReader(csv_file)\n",
    "        Batruns={}\n",
    "        for row in csvreader:\n",
    "            if min_bat_req(row[\"batsman\"]):\n",
    "                if row[\"batsman\"] in Batruns.keys():\n",
    "                    Batruns[row[\"batsman\"]]+= int(row[\"batsman_runs\"])\n",
    "                else:\n",
    "                    Batruns[row[\"batsman\"]]= int(row[\"batsman_runs\"])\n",
    "    return(sort_dict(Batruns,False))"
   ]
  },
  {
   "cell_type": "markdown",
   "metadata": {},
   "source": [
    "Top wicket takers in a dictionary"
   ]
  },
  {
   "cell_type": "code",
   "execution_count": 3,
   "metadata": {},
   "outputs": [],
   "source": [
    "def wickets():\n",
    "    with open(\"ipl-stats.csv\",mode=\"r\") as csv_file:\n",
    "        csvreader=csv.DictReader(csv_file)\n",
    "        wickets={}\n",
    "        for row in csvreader:\n",
    "            if min_ball_req(row[\"bowler\"]):\n",
    "                if int(row[\"is_wicket\"])==1 and row[\"dismissal_kind\"]!=\"run out\":\n",
    "                    if row[\"bowler\"] in wickets.keys():\n",
    "                        wickets[row[\"bowler\"]]+= int(row[\"is_wicket\"])\n",
    "                    else:\n",
    "                        wickets[row[\"bowler\"]]= int(row[\"is_wicket\"])\n",
    "    return(sort_dict(wickets,False))"
   ]
  },
  {
   "cell_type": "markdown",
   "metadata": {},
   "source": [
    "No of matches played as a batsman and as a bowler respectively"
   ]
  },
  {
   "cell_type": "code",
   "execution_count": 4,
   "metadata": {},
   "outputs": [],
   "source": [
    "def No_of_matches():\n",
    "    with open(\"ipl-stats.csv\",mode=\"r\") as csv_file:\n",
    "        csvreader=csv.DictReader(csv_file)\n",
    "        Matches={\"Batsmen\":{},\"Bowlers\":{}}\n",
    "        for row in csvreader:\n",
    "            if row[\"batsman\"] in Matches[\"Batsmen\"].keys() and row[\"id\"] not in Matches[\"Batsmen\"][row[\"batsman\"]]:\n",
    "                Matches[\"Batsmen\"][row[\"batsman\"]].append(row[\"id\"])\n",
    "            elif row[\"batsman\"] not in Matches[\"Batsmen\"].keys() :\n",
    "                Matches[\"Batsmen\"][row[\"batsman\"]]=[row[\"id\"]]\n",
    "            if row[\"bowler\"] in Matches[\"Bowlers\"].keys() and row[\"id\"] not in Matches[\"Bowlers\"][row[\"bowler\"]]:\n",
    "                Matches[\"Bowlers\"][row[\"bowler\"]].append(row[\"id\"])\n",
    "            elif row[\"bowler\"] not in Matches[\"Bowlers\"].keys() :\n",
    "                Matches[\"Bowlers\"][row[\"bowler\"]]=[row[\"id\"]]\n",
    "        for i in Matches[\"Batsmen\"].keys():\n",
    "            Matches[\"Batsmen\"][i]=len(Matches[\"Batsmen\"][i])\n",
    "        for i in Matches[\"Bowlers\"].keys():\n",
    "            Matches[\"Bowlers\"][i]=len(Matches[\"Bowlers\"][i])\n",
    "    return(Matches)"
   ]
  },
  {
   "cell_type": "markdown",
   "metadata": {},
   "source": [
    "Bowling Average Computation"
   ]
  },
  {
   "cell_type": "code",
   "execution_count": 5,
   "metadata": {},
   "outputs": [],
   "source": [
    "def numberofruns():\n",
    "    runs = {}\n",
    "    with open('ipl-stats.csv','r') as file:\n",
    "        csvreader = csv.DictReader(file)\n",
    "        for row in csvreader:\n",
    "            if row['extras_type'] == 'NA':\n",
    "                if row['bowler'] in runs.keys():\n",
    "                    runs[row['bowler']] += int(row['batsman_runs'])\n",
    "                else:\n",
    "                    runs[row['bowler']] = int(row['batsman_runs'])\n",
    "            elif row['extras_type'] in ['wides','noballs']:\n",
    "                if row['bowler'] in runs.keys():\n",
    "                    runs[row['bowler']] += int(row['total_runs'])\n",
    "                else:\n",
    "                    runs[row['bowler']] = int(row['total_runs'])\n",
    "    return runs\n",
    "def bowling_avg():\n",
    "    runs = numberofruns()\n",
    "    wicket = wickets()\n",
    "    bowl_avg = {}\n",
    "    for i in wicket.keys():\n",
    "        try:\n",
    "            bowl_avg[i] = round(runs[i]/wicket[i],2)\n",
    "        except:\n",
    "            pass\n",
    "    return(sort_dict(bowl_avg))"
   ]
  },
  {
   "cell_type": "markdown",
   "metadata": {},
   "source": [
    "Batting Strike rate computation"
   ]
  },
  {
   "cell_type": "code",
   "execution_count": 6,
   "metadata": {},
   "outputs": [],
   "source": [
    "def bat_balls():\n",
    "    Batballs = {}\n",
    "    with open(\"ipl-stats.csv\",mode='r') as file:\n",
    "        obj = csv.DictReader(file)\n",
    "        for row in obj:\n",
    "            if row[\"extras_type\"]==\"NA\":\n",
    "                if row[\"batsman\"] in Batballs.keys():\n",
    "                    Batballs[row[\"batsman\"]] += 1\n",
    "                else:\n",
    "                    Batballs[row[\"batsman\"]] = 1\n",
    "    return Batballs\n",
    "\n",
    "def batting_sr():\n",
    "    Batruns = runs()\n",
    "    Batballs = bat_balls()\n",
    "    Batsr = {}\n",
    "    for i in Batruns.keys():\n",
    "        try:\n",
    "            Batsr[i] = round((Batruns[i]/Batballs[i])*100,2)\n",
    "        except:\n",
    "            pass\n",
    "    return(sort_dict(Batsr,False))"
   ]
  },
  {
   "cell_type": "markdown",
   "metadata": {},
   "source": [
    "Bowling Strike rate computation"
   ]
  },
  {
   "cell_type": "code",
   "execution_count": 7,
   "metadata": {},
   "outputs": [],
   "source": [
    "def ball(Bool=True):\n",
    "    No_balls={}\n",
    "    with open(\"ipl-stats.csv\",mode='r') as csv_file:\n",
    "        csvreader=csv.DictReader(csv_file)\n",
    "        for row in csvreader:\n",
    "            if Bool:\n",
    "                if min_ball_req(row[\"bowler\"]) :\n",
    "                    if row[\"extras_type\"] not in [\"wides\",\"noballs\"]:\n",
    "                        if row[\"bowler\"] not in No_balls.keys():\n",
    "                            No_balls[row[\"bowler\"]]=1\n",
    "                        else:\n",
    "                            No_balls[row[\"bowler\"]]+=1\n",
    "            else:\n",
    "                if row[\"extras_type\"] not in [\"wides\",\"noballs\"]:\n",
    "                        if row[\"bowler\"] not in No_balls.keys():\n",
    "                            No_balls[row[\"bowler\"]]=1\n",
    "                        else:\n",
    "                            No_balls[row[\"bowler\"]]+=1 \n",
    "            \n",
    "    return No_balls\n",
    "def bowling_str():    \n",
    "    balls = ball()\n",
    "    wicket = wickets()\n",
    "    bowl_avg = {}\n",
    "    for i in wicket.keys():\n",
    "        try:\n",
    "            bowl_avg[i] = round(balls[i]/wicket[i],2)\n",
    "        except:\n",
    "            pass\n",
    "    return(sort_dict(bowl_avg))"
   ]
  },
  {
   "cell_type": "markdown",
   "metadata": {},
   "source": [
    "Batting Average Computation"
   ]
  },
  {
   "cell_type": "code",
   "execution_count": 8,
   "metadata": {},
   "outputs": [],
   "source": [
    "def no_of_dismissals():\n",
    "    with open(\"ipl-stats.csv\",mode='r') as csv_file:\n",
    "        csvreader=csv.DictReader(csv_file)\n",
    "        dismiss={}\n",
    "        for row in csvreader:\n",
    "            if row[\"is_wicket\"] == \"1\":\n",
    "                if row[\"batsman\"] not in dismiss.keys(): \n",
    "                    dismiss[row[\"batsman\"]]=1\n",
    "                else:\n",
    "                    dismiss[row[\"batsman\"]]+=1 \n",
    "    return dismiss\n",
    "\n",
    "def battingaverage():\n",
    "    bat_average={}    \n",
    "    batruns=runs()\n",
    "    dismiss=no_of_dismissals()\n",
    "    for i in batruns.keys():\n",
    "        try:\n",
    "            bat_average[i]=round(batruns[i]/dismiss[i],2)\n",
    "        except:\n",
    "            pass\n",
    "    return(sort_dict(bat_average,False))"
   ]
  },
  {
   "cell_type": "markdown",
   "metadata": {},
   "source": [
    "Economy computation"
   ]
  },
  {
   "cell_type": "code",
   "execution_count": 9,
   "metadata": {},
   "outputs": [],
   "source": [
    "def economy():\n",
    "    eco={}\n",
    "    runs=numberofruns()\n",
    "    balls=ball()\n",
    "    for i in balls.keys():\n",
    "        try:\n",
    "            over=balls[i]/6\n",
    "            eco[i]=round(runs[i]/over,2)\n",
    "        except:\n",
    "            pass\n",
    "    return(sort_dict(eco))"
   ]
  },
  {
   "cell_type": "markdown",
   "metadata": {},
   "source": [
    "Picking out the allrounders"
   ]
  },
  {
   "cell_type": "code",
   "execution_count": 10,
   "metadata": {},
   "outputs": [],
   "source": [
    "def allrounder():\n",
    "    m = bowling_str()\n",
    "    k = batting_sr()\n",
    "    a = set(m.keys())\n",
    "    b = set(k.keys())\n",
    "    allrounders = a.intersection(b)\n",
    "    return allrounders\n",
    "def allrounders_rank():\n",
    "    rank_allrounders = {}\n",
    "    k = allrounder() # Set of possible allrounders.\n",
    "    m = bowling_str()\n",
    "    l = batting_sr()\n",
    "    M = list(m.values()) \n",
    "    L = list(l.values())\n",
    "    L_sorted = sorted(L, reverse = True) # Descending sort of batting strike rate.\n",
    "    M_sorted = sorted(M) # Ascending sort of bowling strike rate.\n",
    "    for i in k:\n",
    "        rank_allrounders[i] = (L_sorted.index(l[i]))+(M_sorted.index(m[i]))\n",
    "    return(sort_dict(rank_allrounders)) # Ascending sort of sum of indeces(minimising the sum of ranks)."
   ]
  },
  {
   "cell_type": "markdown",
   "metadata": {},
   "source": [
    "wicket keepers selection"
   ]
  },
  {
   "cell_type": "code",
   "execution_count": 11,
   "metadata": {},
   "outputs": [],
   "source": [
    "def wic_ke():\n",
    "    with open('ipl-stats.csv',mode='r') as f:\n",
    "        file=csv.DictReader(f)\n",
    "        stump={}\n",
    "        bat_avg=battingaverage()\n",
    "        grade={}\n",
    "        for i in file:\n",
    "            if i[\"dismissal_kind\"]==\"stumped\":\n",
    "                        if i[\"fielder\"] in stump.keys():\n",
    "                            stump[i[\"fielder\"]]+=1\n",
    "                        else:\n",
    "                            stump[i[\"fielder\"]]=1\n",
    "        sorted_stump=sorted(stump,key=stump.get,reverse=True) # Descending sort of no of stumpings.\n",
    "        sorted_avg=sorted(bat_avg,key=bat_avg.get,reverse=True) # Descending sort of batting average.\n",
    "        for i in sorted_stump:\n",
    "            if i in sorted_stump and i in sorted_avg:\n",
    "                grade[i] = sorted_stump.index(i)+sorted_avg.index(i)\n",
    "        return sort_dict(grade) # Ascending sort of sum of indeces(minimising the sum of ranks)."
   ]
  },
  {
   "cell_type": "markdown",
   "metadata": {},
   "source": [
    "Minimum requirement function for a Batsman and a bowler"
   ]
  },
  {
   "cell_type": "code",
   "execution_count": 12,
   "metadata": {},
   "outputs": [],
   "source": [
    "# Minimum should have faced 100 balls and should have played a minimum of 20 matches to get selected.\n",
    "Matches=No_of_matches()\n",
    "Batballs=bat_balls()\n",
    "def min_bat_req(player):\n",
    "    if Matches[\"Batsmen\"][player]>=20 and Batballs[player]>=100:\n",
    "        return True\n",
    "    return False\n",
    "# Minimum should have bowled 500 balls and should have played a minimum of 20 matches to get selected.\n",
    "Bowlballs=ball(False)\n",
    "def min_ball_req(player):\n",
    "    if Matches[\"Bowlers\"][player]>=20 and Bowlballs[player]>=500:\n",
    "        return True\n",
    "    return False"
   ]
  },
  {
   "cell_type": "markdown",
   "metadata": {},
   "source": [
    "Selecting the players when the required quantative parameter and no of people to be selected are passed"
   ]
  },
  {
   "cell_type": "code",
   "execution_count": 13,
   "metadata": {},
   "outputs": [],
   "source": [
    "def select(Dict,squad,n,player): # Player 0 if asc sort is needed, 1 if desc sort is required.\n",
    "                                 # n-no of players to be chosen, Dict-parameter dictionary, squad-list of players.\n",
    "    if player==1:\n",
    "        sorted_keys=sorted(Dict,key=Dict.get)\n",
    "    elif player==0:\n",
    "        sorted_keys=sorted(Dict,key=Dict.get,reverse=True)\n",
    "    sorted_keys_slice=sorted_keys[:n]\n",
    "    count=0\n",
    "    while(count<n):\n",
    "        if sorted_keys_slice[count] not in squad:\n",
    "            squad.append(sorted_keys_slice[count])\n",
    "        else:\n",
    "            sorted_keys_slice.append(sorted_keys[n])\n",
    "            n+=1\n",
    "        count+=1\n",
    "    return(squad)"
   ]
  },
  {
   "cell_type": "markdown",
   "metadata": {},
   "source": [
    "Our Dream 18"
   ]
  },
  {
   "cell_type": "code",
   "execution_count": 14,
   "metadata": {},
   "outputs": [],
   "source": [
    "def eighteen():\n",
    "    squad=[]\n",
    "    Bat_avg=battingaverage()\n",
    "    squad=select(Bat_avg,squad,2,0) # 2 Batsman of highest Batting Average.\n",
    "    Bat_str=batting_sr()\n",
    "    squad=select(Bat_str,squad,2,0) # 2 Batsman of highest Batting Strike rate.\n",
    "    Bat_orange_cap=runs()\n",
    "    squad=select(Bat_orange_cap,squad,2,0) # 2 Batsman of highest runs scored.\n",
    "    Bowl_eco=economy()\n",
    "    squad=select(Bowl_eco,squad,2,1) # 2 Bowlers of least economy.\n",
    "    Bowl_avg=bowling_avg()\n",
    "    squad=select(Bowl_avg,squad,2,1) # 2 Bowlers of least bowling average.\n",
    "    Bowl_wicket=wickets()\n",
    "    squad=select(Bowl_wicket,squad,2,0) # 2 Bowlers of highest wickets.\n",
    "    all_rounder=allrounders_rank()\n",
    "    squad=select(all_rounder,squad,4,1) # 4 Allrounder of least rank.\n",
    "    wk_keeper=wic_ke()\n",
    "    squad=select(wk_keeper,squad,2,1) # 2 Wicketkeepers of least rank.\n",
    "    return(squad)"
   ]
  },
  {
   "cell_type": "markdown",
   "metadata": {},
   "source": [
    "Dream Eleven"
   ]
  },
  {
   "cell_type": "code",
   "execution_count": 15,
   "metadata": {},
   "outputs": [],
   "source": [
    "def eleven():\n",
    "    squad=[]\n",
    "    Bat_avg=battingaverage()\n",
    "    squad=select(Bat_avg,squad,1,0) # 1 Batsman of highest Batting Average.\n",
    "    Bat_str=batting_sr()\n",
    "    squad=select(Bat_str,squad,1,0) # 1 Batsman of highest Batting Strike rate.\n",
    "    Bat_orange_cap=runs()\n",
    "    squad=select(Bat_orange_cap,squad,2,0) # 2 Batsman of highest runs scored.\n",
    "    Bowl_eco=economy()\n",
    "    squad=select(Bowl_eco,squad,1,1) # 1 Bowlers of least economy.\n",
    "    Bowl_avg=bowling_avg()\n",
    "    squad=select(Bowl_avg,squad,1,1) # 1 Bowlers of least bowling average.\n",
    "    Bowl_wicket=wickets()\n",
    "    squad=select(Bowl_wicket,squad,2,0) # 2 Bowlers of highest wickets.\n",
    "    all_rounder=allrounders_rank()\n",
    "    squad=select(all_rounder,squad,2,1) # 2 Allrounder of least rank.\n",
    "    wk_keeper=wic_ke()\n",
    "    squad=select(wk_keeper,squad,1,1) # 1 Wicketkeeper of least rank.\n",
    "    return(squad)"
   ]
  },
  {
   "cell_type": "markdown",
   "metadata": {},
   "source": [
    "To display the squad"
   ]
  },
  {
   "cell_type": "code",
   "execution_count": 16,
   "metadata": {},
   "outputs": [],
   "source": [
    "def display(lst,pos=False):\n",
    "    if pos:\n",
    "        print(\"**************OUR DREAM EIGHTEEN***********************\")\n",
    "        print(\"Our Batsmen:\\n\")\n",
    "        print(\"Based on batting average:\",\"\\n\"+str(lst[:2]))\n",
    "        print(\"Based on batting strike rate:\",\"\\n\"+str(lst[2:4]))\n",
    "        print(\"Based on number of runs:\",\"\\n\"+str(lst[4:6]))\n",
    "        print(\"\\nOur Bowlers:\\n\")\n",
    "        print(\"Based on bowling economy:\",\"\\n\"+str(lst[6:8]))\n",
    "        print(\"Based on bowling average:\",\"\\n\"+str(lst[8:10]))\n",
    "        print(\"Based on number of wickets:\",\"\\n\"+str(lst[10:12]))\n",
    "        print(\"\\nOur Allrounders:\\n\")\n",
    "        print(\"Based on bowling strike rate and batting strike rate:\",\"\\n\"+str(lst[12:16]))\n",
    "        print(\"\\nOur Wicketkeepers:\\n\")\n",
    "        print(\"Based on number of stumpings and batting average:\",\"\\n\"+str(lst[16:18]))\n",
    "        print(\"\\n\"+\"Our eighteen squad:\\n\"+str(lst))\n",
    "        print()\n",
    "    else:\n",
    "        print(\"**************OUR DREAM ELEVEN***********************\")\n",
    "        print(\"Our Batsmen:\\n\")\n",
    "        print(\"Based on batting average:\",\"\\n\"+str(lst[:1]))\n",
    "        print(\"Based on batting strike rate:\",\"\\n\"+str(lst[1:2]))\n",
    "        print(\"Based on number of runs:\",\"\\n\"+str(lst[2:4]))\n",
    "        print(\"\\nOur Bowlers:\\n\")\n",
    "        print(\"Based on bowling economy:\",\"\\n\"+str(lst[4:5]))\n",
    "        print(\"Based on bowling average:\",\"\\n\"+str(lst[5:6]))\n",
    "        print(\"Based on number of wickets:\",\"\\n\"+str(lst[6:8]))\n",
    "        print(\"\\nOur Allrounders:\\n\")\n",
    "        print(\"Based on bowling strike rate and batting strike rate:\",\"\\n\"+str(lst[8:10]))\n",
    "        print(\"\\nOur Wicketkeepers:\\n\")\n",
    "        print(\"Based on number of stumpings and batting average:\",\"\\n\"+str(lst[10:11]))\n",
    "        print(\"\\n\"+\"Our playing eleven:\\n\"+str(lst))"
   ]
  },
  {
   "cell_type": "code",
   "execution_count": 17,
   "metadata": {},
   "outputs": [
    {
     "name": "stdout",
     "output_type": "stream",
     "text": [
      "**************OUR DREAM EIGHTEEN***********************\n",
      "Our Batsmen:\n",
      "\n",
      "Based on batting average: \n",
      "['KL Rahul', 'AB de Villiers']\n",
      "Based on batting strike rate: \n",
      "['AD Russell', 'SP Narine']\n",
      "Based on number of runs: \n",
      "['V Kohli', 'SK Raina']\n",
      "\n",
      "Our Bowlers:\n",
      "\n",
      "Based on bowling economy: \n",
      "['Rashid Khan', 'A Kumble']\n",
      "Based on bowling average: \n",
      "['SL Malinga', 'YS Chahal']\n",
      "Based on number of wickets: \n",
      "['A Mishra', 'PP Chawla']\n",
      "\n",
      "Our Allrounders:\n",
      "\n",
      "Based on bowling strike rate and batting strike rate: \n",
      "['KA Pollard', 'DR Smith', 'Harbhajan Singh', 'DJ Bravo']\n",
      "\n",
      "Our Wicketkeepers:\n",
      "\n",
      "Based on number of stumpings and batting average: \n",
      "['MS Dhoni', 'RR Pant']\n",
      "\n",
      "Our eighteen squad:\n",
      "['KL Rahul', 'AB de Villiers', 'AD Russell', 'SP Narine', 'V Kohli', 'SK Raina', 'Rashid Khan', 'A Kumble', 'SL Malinga', 'YS Chahal', 'A Mishra', 'PP Chawla', 'KA Pollard', 'DR Smith', 'Harbhajan Singh', 'DJ Bravo', 'MS Dhoni', 'RR Pant']\n",
      "\n",
      "**************OUR DREAM ELEVEN***********************\n",
      "Our Batsmen:\n",
      "\n",
      "Based on batting average: \n",
      "['KL Rahul']\n",
      "Based on batting strike rate: \n",
      "['AD Russell']\n",
      "Based on number of runs: \n",
      "['V Kohli', 'SK Raina']\n",
      "\n",
      "Our Bowlers:\n",
      "\n",
      "Based on bowling economy: \n",
      "['Rashid Khan']\n",
      "Based on bowling average: \n",
      "['SL Malinga']\n",
      "Based on number of wickets: \n",
      "['A Mishra', 'PP Chawla']\n",
      "\n",
      "Our Allrounders:\n",
      "\n",
      "Based on bowling strike rate and batting strike rate: \n",
      "['SP Narine', 'KA Pollard']\n",
      "\n",
      "Our Wicketkeepers:\n",
      "\n",
      "Based on number of stumpings and batting average: \n",
      "['AB de Villiers']\n",
      "\n",
      "Our playing eleven:\n",
      "['KL Rahul', 'AD Russell', 'V Kohli', 'SK Raina', 'Rashid Khan', 'SL Malinga', 'A Mishra', 'PP Chawla', 'SP Narine', 'KA Pollard', 'AB de Villiers']\n"
     ]
    }
   ],
   "source": [
    "#Main Function\n",
    "fullsquad=eighteen()\n",
    "squad=eleven()\n",
    "display(fullsquad,True)\n",
    "display(squad)"
   ]
  },
  {
   "cell_type": "code",
   "execution_count": null,
   "metadata": {},
   "outputs": [],
   "source": []
  },
  {
   "cell_type": "code",
   "execution_count": null,
   "metadata": {},
   "outputs": [],
   "source": []
  }
 ],
 "metadata": {
  "kernelspec": {
   "display_name": "Python 3",
   "language": "python",
   "name": "python3"
  },
  "language_info": {
   "codemirror_mode": {
    "name": "ipython",
    "version": 3
   },
   "file_extension": ".py",
   "mimetype": "text/x-python",
   "name": "python",
   "nbconvert_exporter": "python",
   "pygments_lexer": "ipython3",
   "version": "3.8.5"
  }
 },
 "nbformat": 4,
 "nbformat_minor": 4
}
